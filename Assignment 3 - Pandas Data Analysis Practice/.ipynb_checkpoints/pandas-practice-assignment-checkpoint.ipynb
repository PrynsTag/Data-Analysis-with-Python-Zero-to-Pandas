{
 "cells": [
  {
   "cell_type": "markdown",
   "metadata": {},
   "source": [
    "# Assignment 3 - Pandas Data Analysis Practice\n",
    "\n",
    "*This assignment is a part of the course [\"Data Analysis with Python: Zero to Pandas\"](https://jovian.ml/learn/data-analysis-with-python-zero-to-pandas)*\n",
    "\n",
    "In this assignment, you'll get to practice some of the concepts and skills covered this tutorial: https://jovian.ml/aakashns/python-pandas-data-analysis\n",
    "\n",
    "As you go through this notebook, you will find a **???** in certain places. To complete this assignment, you must replace all the **???** with appropriate values, expressions or statements to ensure that the notebook runs properly end-to-end. \n",
    "\n",
    "Some things to keep in mind:\n",
    "\n",
    "* Make sure to run all the code cells, otherwise you may get errors like `NameError` for undefined variables.\n",
    "* Do not change variable names, delete cells or disturb other existing code. It may cause problems during evaluation.\n",
    "* In some cases, you may need to add some code cells or new statements before or after the line of code containing the **???**. \n",
    "* Since you'll be using a temporary online service for code execution, save your work by running `jovian.commit` at regular intervals.\n",
    "* Questions marked **(Optional)** will not be considered for evaluation, and can be skipped. They are for your learning.\n",
    "\n",
    "You can make submissions on this page: https://jovian.ml/learn/data-analysis-with-python-zero-to-pandas/assignment/assignment-3-pandas-practice\n",
    "\n",
    "If you are stuck, you can ask for help on the community forum: https://jovian.ml/forum/t/assignment-3-pandas-practice/11225/3 . You can get help with errors or ask for hints, describe your approach in simple words, link to documentation, but **please don't ask for or share the full working answer code** on the forum.\n",
    "\n",
    "\n",
    "## How to run the code and save your work\n",
    "\n",
    "The recommended way to run this notebook is to click the \"Run\" button at the top of this page, and select \"Run on Binder\". This will run the notebook on [mybinder.org](https://mybinder.org), a free online service for running Jupyter notebooks. \n",
    "\n",
    "Before staring the assignment, let's save a snapshot of the assignment to your Jovian.ml profile, so that you can access it later, and continue your work."
   ]
  },
  {
   "cell_type": "code",
   "execution_count": 29,
   "metadata": {},
   "outputs": [],
   "source": [
    "import jovian"
   ]
  },
  {
   "cell_type": "code",
   "execution_count": 30,
   "metadata": {},
   "outputs": [
    {
     "data": {
      "application/javascript": [
       "window.require && require([\"base/js/namespace\"],function(Jupyter){Jupyter.notebook.save_checkpoint()})"
      ],
      "text/plain": [
       "<IPython.core.display.Javascript object>"
      ]
     },
     "metadata": {},
     "output_type": "display_data"
    },
    {
     "name": "stdout",
     "output_type": "stream",
     "text": [
      "[jovian] Attempting to save notebook..\n",
      "[jovian] Updating notebook \"201812311/pandas-practice-assignment\" on https://jovian.ml/\n",
      "[jovian] Uploading notebook..\n",
      "[jovian] Committed successfully! https://jovian.ml/201812311/pandas-practice-assignment\n"
     ]
    },
    {
     "data": {
      "text/plain": [
       "'https://jovian.ml/201812311/pandas-practice-assignment'"
      ]
     },
     "execution_count": 30,
     "metadata": {},
     "output_type": "execute_result"
    }
   ],
   "source": [
    "jovian.commit(project='pandas-practice-assignment', environment=None)"
   ]
  },
  {
   "cell_type": "code",
   "execution_count": 31,
   "metadata": {},
   "outputs": [
    {
     "name": "stdout",
     "output_type": "stream",
     "text": [
      "Requirement already up-to-date: pandas in c:\\users\\princ\\pycharmprojects\\data analysis with python- zero to pandas\\venv\\lib\\site-packages (1.1.2)\n",
      "Requirement already satisfied, skipping upgrade: pytz>=2017.2 in c:\\users\\princ\\pycharmprojects\\data analysis with python- zero to pandas\\venv\\lib\\site-packages (from pandas) (2020.1)\n",
      "Requirement already satisfied, skipping upgrade: numpy>=1.15.4 in c:\\users\\princ\\pycharmprojects\\data analysis with python- zero to pandas\\venv\\lib\\site-packages (from pandas) (1.19.2)\n",
      "Requirement already satisfied, skipping upgrade: python-dateutil>=2.7.3 in c:\\users\\princ\\pycharmprojects\\data analysis with python- zero to pandas\\venv\\lib\\site-packages (from pandas) (2.8.1)\n",
      "Requirement already satisfied, skipping upgrade: six>=1.5 in c:\\users\\princ\\pycharmprojects\\data analysis with python- zero to pandas\\venv\\lib\\site-packages (from python-dateutil>=2.7.3->pandas) (1.15.0)\n"
     ]
    }
   ],
   "source": [
    "# Run the next line to install Pandas\n",
    "!pip install pandas --upgrade"
   ]
  },
  {
   "cell_type": "code",
   "execution_count": 32,
   "metadata": {},
   "outputs": [],
   "source": [
    "import pandas as pd"
   ]
  },
  {
   "cell_type": "markdown",
   "metadata": {},
   "source": [
    "In this assignment, we're going to analyze an operate on data from a CSV file. Let's begin by downloading the CSV file."
   ]
  },
  {
   "cell_type": "code",
   "execution_count": 33,
   "metadata": {},
   "outputs": [
    {
     "data": {
      "text/plain": [
       "('countries.csv', <http.client.HTTPMessage at 0x16afe39f400>)"
      ]
     },
     "execution_count": 33,
     "metadata": {},
     "output_type": "execute_result"
    }
   ],
   "source": [
    "from urllib.request import urlretrieve\n",
    "\n",
    "urlretrieve('https://hub.jovian.ml/wp-content/uploads/2020/09/countries.csv', \n",
    "            'countries.csv')"
   ]
  },
  {
   "cell_type": "markdown",
   "metadata": {},
   "source": [
    "Let's load the data from the CSV file into a Pandas data frame."
   ]
  },
  {
   "cell_type": "code",
   "execution_count": 34,
   "metadata": {},
   "outputs": [],
   "source": [
    "countries_df = pd.read_csv('countries.csv')"
   ]
  },
  {
   "cell_type": "code",
   "execution_count": 35,
   "metadata": {},
   "outputs": [
    {
     "data": {
      "text/html": [
       "<div>\n",
       "<style scoped>\n",
       "    .dataframe tbody tr th:only-of-type {\n",
       "        vertical-align: middle;\n",
       "    }\n",
       "\n",
       "    .dataframe tbody tr th {\n",
       "        vertical-align: top;\n",
       "    }\n",
       "\n",
       "    .dataframe thead th {\n",
       "        text-align: right;\n",
       "    }\n",
       "</style>\n",
       "<table border=\"1\" class=\"dataframe\">\n",
       "  <thead>\n",
       "    <tr style=\"text-align: right;\">\n",
       "      <th></th>\n",
       "      <th>location</th>\n",
       "      <th>continent</th>\n",
       "      <th>population</th>\n",
       "      <th>life_expectancy</th>\n",
       "      <th>hospital_beds_per_thousand</th>\n",
       "      <th>gdp_per_capita</th>\n",
       "    </tr>\n",
       "  </thead>\n",
       "  <tbody>\n",
       "    <tr>\n",
       "      <th>0</th>\n",
       "      <td>Afghanistan</td>\n",
       "      <td>Asia</td>\n",
       "      <td>38,928,341</td>\n",
       "      <td>65</td>\n",
       "      <td>0</td>\n",
       "      <td>1,804</td>\n",
       "    </tr>\n",
       "    <tr>\n",
       "      <th>1</th>\n",
       "      <td>Albania</td>\n",
       "      <td>Europe</td>\n",
       "      <td>2,877,800</td>\n",
       "      <td>79</td>\n",
       "      <td>3</td>\n",
       "      <td>11,803</td>\n",
       "    </tr>\n",
       "    <tr>\n",
       "      <th>2</th>\n",
       "      <td>Algeria</td>\n",
       "      <td>Africa</td>\n",
       "      <td>43,851,043</td>\n",
       "      <td>77</td>\n",
       "      <td>2</td>\n",
       "      <td>13,914</td>\n",
       "    </tr>\n",
       "    <tr>\n",
       "      <th>3</th>\n",
       "      <td>Andorra</td>\n",
       "      <td>Europe</td>\n",
       "      <td>77,265</td>\n",
       "      <td>84</td>\n",
       "      <td>nan</td>\n",
       "      <td>nan</td>\n",
       "    </tr>\n",
       "    <tr>\n",
       "      <th>4</th>\n",
       "      <td>Angola</td>\n",
       "      <td>Africa</td>\n",
       "      <td>32,866,268</td>\n",
       "      <td>61</td>\n",
       "      <td>nan</td>\n",
       "      <td>5,819</td>\n",
       "    </tr>\n",
       "    <tr>\n",
       "      <th>...</th>\n",
       "      <td>...</td>\n",
       "      <td>...</td>\n",
       "      <td>...</td>\n",
       "      <td>...</td>\n",
       "      <td>...</td>\n",
       "      <td>...</td>\n",
       "    </tr>\n",
       "    <tr>\n",
       "      <th>205</th>\n",
       "      <td>Vietnam</td>\n",
       "      <td>Asia</td>\n",
       "      <td>97,338,583</td>\n",
       "      <td>75</td>\n",
       "      <td>3</td>\n",
       "      <td>6,172</td>\n",
       "    </tr>\n",
       "    <tr>\n",
       "      <th>206</th>\n",
       "      <td>Western Sahara</td>\n",
       "      <td>Africa</td>\n",
       "      <td>597,330</td>\n",
       "      <td>70</td>\n",
       "      <td>nan</td>\n",
       "      <td>nan</td>\n",
       "    </tr>\n",
       "    <tr>\n",
       "      <th>207</th>\n",
       "      <td>Yemen</td>\n",
       "      <td>Asia</td>\n",
       "      <td>29,825,968</td>\n",
       "      <td>66</td>\n",
       "      <td>1</td>\n",
       "      <td>1,479</td>\n",
       "    </tr>\n",
       "    <tr>\n",
       "      <th>208</th>\n",
       "      <td>Zambia</td>\n",
       "      <td>Africa</td>\n",
       "      <td>18,383,956</td>\n",
       "      <td>64</td>\n",
       "      <td>2</td>\n",
       "      <td>3,689</td>\n",
       "    </tr>\n",
       "    <tr>\n",
       "      <th>209</th>\n",
       "      <td>Zimbabwe</td>\n",
       "      <td>Africa</td>\n",
       "      <td>14,862,927</td>\n",
       "      <td>61</td>\n",
       "      <td>2</td>\n",
       "      <td>1,900</td>\n",
       "    </tr>\n",
       "  </tbody>\n",
       "</table>\n",
       "<p>210 rows × 6 columns</p>\n",
       "</div>"
      ],
      "text/plain": [
       "           location continent  population  life_expectancy  \\\n",
       "0       Afghanistan      Asia  38,928,341               65   \n",
       "1           Albania    Europe   2,877,800               79   \n",
       "2           Algeria    Africa  43,851,043               77   \n",
       "3           Andorra    Europe      77,265               84   \n",
       "4            Angola    Africa  32,866,268               61   \n",
       "..              ...       ...         ...              ...   \n",
       "205         Vietnam      Asia  97,338,583               75   \n",
       "206  Western Sahara    Africa     597,330               70   \n",
       "207           Yemen      Asia  29,825,968               66   \n",
       "208          Zambia    Africa  18,383,956               64   \n",
       "209        Zimbabwe    Africa  14,862,927               61   \n",
       "\n",
       "     hospital_beds_per_thousand  gdp_per_capita  \n",
       "0                             0           1,804  \n",
       "1                             3          11,803  \n",
       "2                             2          13,914  \n",
       "3                           nan             nan  \n",
       "4                           nan           5,819  \n",
       "..                          ...             ...  \n",
       "205                           3           6,172  \n",
       "206                         nan             nan  \n",
       "207                           1           1,479  \n",
       "208                           2           3,689  \n",
       "209                           2           1,900  \n",
       "\n",
       "[210 rows x 6 columns]"
      ]
     },
     "execution_count": 35,
     "metadata": {},
     "output_type": "execute_result"
    }
   ],
   "source": [
    "countries_df"
   ]
  },
  {
   "cell_type": "markdown",
   "metadata": {},
   "source": [
    "**Q: How many countries does the dataframe contain?**\n",
    "\n",
    "Hint: Use the `.shape` method."
   ]
  },
  {
   "cell_type": "code",
   "execution_count": 36,
   "metadata": {},
   "outputs": [],
   "source": [
    "num_countries = countries_df.shape[0]"
   ]
  },
  {
   "cell_type": "code",
   "execution_count": 37,
   "metadata": {},
   "outputs": [
    {
     "name": "stdout",
     "output_type": "stream",
     "text": [
      "There are 210 countries in the dataset\n"
     ]
    }
   ],
   "source": [
    "print('There are {} countries in the dataset'.format(num_countries))"
   ]
  },
  {
   "cell_type": "code",
   "execution_count": 38,
   "metadata": {},
   "outputs": [
    {
     "data": {
      "application/javascript": [
       "window.require && require([\"base/js/namespace\"],function(Jupyter){Jupyter.notebook.save_checkpoint()})"
      ],
      "text/plain": [
       "<IPython.core.display.Javascript object>"
      ]
     },
     "metadata": {},
     "output_type": "display_data"
    },
    {
     "name": "stdout",
     "output_type": "stream",
     "text": [
      "[jovian] Attempting to save notebook..\n",
      "[jovian] Updating notebook \"201812311/pandas-practice-assignment\" on https://jovian.ml/\n",
      "[jovian] Uploading notebook..\n",
      "[jovian] Committed successfully! https://jovian.ml/201812311/pandas-practice-assignment\n"
     ]
    },
    {
     "data": {
      "text/plain": [
       "'https://jovian.ml/201812311/pandas-practice-assignment'"
      ]
     },
     "execution_count": 38,
     "metadata": {},
     "output_type": "execute_result"
    }
   ],
   "source": [
    "jovian.commit(project='pandas-practice-assignment', environment=None)"
   ]
  },
  {
   "cell_type": "markdown",
   "metadata": {},
   "source": [
    "**Q: Retrieve a list of continents from the dataframe?**\n",
    "\n",
    "*Hint: Use the `.unique` method of a series.*"
   ]
  },
  {
   "cell_type": "code",
   "execution_count": 39,
   "metadata": {},
   "outputs": [],
   "source": [
    "continents = countries_df[\"continent\"].unique()"
   ]
  },
  {
   "cell_type": "code",
   "execution_count": 40,
   "metadata": {},
   "outputs": [
    {
     "data": {
      "text/plain": [
       "array(['Asia', 'Europe', 'Africa', 'North America', 'South America',\n",
       "       'Oceania'], dtype=object)"
      ]
     },
     "execution_count": 40,
     "metadata": {},
     "output_type": "execute_result"
    }
   ],
   "source": [
    "continents"
   ]
  },
  {
   "cell_type": "code",
   "execution_count": 41,
   "metadata": {},
   "outputs": [
    {
     "data": {
      "application/javascript": [
       "window.require && require([\"base/js/namespace\"],function(Jupyter){Jupyter.notebook.save_checkpoint()})"
      ],
      "text/plain": [
       "<IPython.core.display.Javascript object>"
      ]
     },
     "metadata": {},
     "output_type": "display_data"
    },
    {
     "name": "stdout",
     "output_type": "stream",
     "text": [
      "[jovian] Attempting to save notebook..\n",
      "[jovian] Updating notebook \"201812311/pandas-practice-assignment\" on https://jovian.ml/\n",
      "[jovian] Uploading notebook..\n",
      "[jovian] Committed successfully! https://jovian.ml/201812311/pandas-practice-assignment\n"
     ]
    },
    {
     "data": {
      "text/plain": [
       "'https://jovian.ml/201812311/pandas-practice-assignment'"
      ]
     },
     "execution_count": 41,
     "metadata": {},
     "output_type": "execute_result"
    }
   ],
   "source": [
    "jovian.commit(project='pandas-practice-assignment', environment=None)"
   ]
  },
  {
   "cell_type": "markdown",
   "metadata": {},
   "source": [
    "**Q: What is the total population of all the countries listed in this dataset?**"
   ]
  },
  {
   "cell_type": "code",
   "execution_count": 42,
   "metadata": {},
   "outputs": [],
   "source": [
    "total_population = countries_df[\"population\"].sum()"
   ]
  },
  {
   "cell_type": "code",
   "execution_count": 43,
   "metadata": {},
   "outputs": [
    {
     "name": "stdout",
     "output_type": "stream",
     "text": [
      "The total population is 7757980095.\n"
     ]
    }
   ],
   "source": [
    "print('The total population is {}.'.format(int(total_population)))"
   ]
  },
  {
   "cell_type": "code",
   "execution_count": 44,
   "metadata": {},
   "outputs": [
    {
     "data": {
      "application/javascript": [
       "window.require && require([\"base/js/namespace\"],function(Jupyter){Jupyter.notebook.save_checkpoint()})"
      ],
      "text/plain": [
       "<IPython.core.display.Javascript object>"
      ]
     },
     "metadata": {},
     "output_type": "display_data"
    },
    {
     "name": "stdout",
     "output_type": "stream",
     "text": [
      "[jovian] Attempting to save notebook..\n",
      "[jovian] Updating notebook \"201812311/pandas-practice-assignment\" on https://jovian.ml/\n",
      "[jovian] Uploading notebook..\n",
      "[jovian] Committed successfully! https://jovian.ml/201812311/pandas-practice-assignment\n"
     ]
    },
    {
     "data": {
      "text/plain": [
       "'https://jovian.ml/201812311/pandas-practice-assignment'"
      ]
     },
     "execution_count": 44,
     "metadata": {},
     "output_type": "execute_result"
    }
   ],
   "source": [
    "jovian.commit(project='pandas-practice-assignment', environment=None)"
   ]
  },
  {
   "cell_type": "markdown",
   "metadata": {},
   "source": [
    "**Q: (Optional) What is the overall life expectancy across in the world?**\n",
    "\n",
    "*Hint: You'll need to take a weighted average of life expectancy using populations as weights.*"
   ]
  },
  {
   "cell_type": "code",
   "execution_count": 45,
   "metadata": {},
   "outputs": [],
   "source": [
    "avg_life_expectancy = countries_df[\"life_expectancy\"].sum() / countries_df.shape[0]"
   ]
  },
  {
   "cell_type": "code",
   "execution_count": 46,
   "metadata": {},
   "outputs": [
    {
     "name": "stdout",
     "output_type": "stream",
     "text": [
      "The average life expectancy across the world is 72.48.\n"
     ]
    }
   ],
   "source": [
    "print('The average life expectancy across the world is {:.2f}.'.format(avg_life_expectancy))"
   ]
  },
  {
   "cell_type": "code",
   "execution_count": 47,
   "metadata": {},
   "outputs": [
    {
     "data": {
      "application/javascript": [
       "window.require && require([\"base/js/namespace\"],function(Jupyter){Jupyter.notebook.save_checkpoint()})"
      ],
      "text/plain": [
       "<IPython.core.display.Javascript object>"
      ]
     },
     "metadata": {},
     "output_type": "display_data"
    },
    {
     "name": "stdout",
     "output_type": "stream",
     "text": [
      "[jovian] Attempting to save notebook..\n",
      "[jovian] Updating notebook \"201812311/pandas-practice-assignment\" on https://jovian.ml/\n",
      "[jovian] Uploading notebook..\n",
      "[jovian] Committed successfully! https://jovian.ml/201812311/pandas-practice-assignment\n"
     ]
    },
    {
     "data": {
      "text/plain": [
       "'https://jovian.ml/201812311/pandas-practice-assignment'"
      ]
     },
     "execution_count": 47,
     "metadata": {},
     "output_type": "execute_result"
    }
   ],
   "source": [
    "jovian.commit(project='pandas-practice-assignment', environment=None)"
   ]
  },
  {
   "cell_type": "markdown",
   "metadata": {},
   "source": [
    "**Q: Create a dataframe containing 10 countries with the highest population.**\n",
    "\n",
    "*Hint: Chain the `sort_values` and `head` methods.*"
   ]
  },
  {
   "cell_type": "code",
   "execution_count": 48,
   "metadata": {},
   "outputs": [],
   "source": [
    "most_populous_df = countries_df[[\"location\", \"population\"]].sort_values(ascending=False, by=[\"population\"]).head(10)"
   ]
  },
  {
   "cell_type": "code",
   "execution_count": 49,
   "metadata": {},
   "outputs": [
    {
     "data": {
      "text/html": [
       "<div>\n",
       "<style scoped>\n",
       "    .dataframe tbody tr th:only-of-type {\n",
       "        vertical-align: middle;\n",
       "    }\n",
       "\n",
       "    .dataframe tbody tr th {\n",
       "        vertical-align: top;\n",
       "    }\n",
       "\n",
       "    .dataframe thead th {\n",
       "        text-align: right;\n",
       "    }\n",
       "</style>\n",
       "<table border=\"1\" class=\"dataframe\">\n",
       "  <thead>\n",
       "    <tr style=\"text-align: right;\">\n",
       "      <th></th>\n",
       "      <th>location</th>\n",
       "      <th>population</th>\n",
       "    </tr>\n",
       "  </thead>\n",
       "  <tbody>\n",
       "    <tr>\n",
       "      <th>41</th>\n",
       "      <td>China</td>\n",
       "      <td>1,439,323,774</td>\n",
       "    </tr>\n",
       "    <tr>\n",
       "      <th>90</th>\n",
       "      <td>India</td>\n",
       "      <td>1,380,004,385</td>\n",
       "    </tr>\n",
       "    <tr>\n",
       "      <th>199</th>\n",
       "      <td>United States</td>\n",
       "      <td>331,002,647</td>\n",
       "    </tr>\n",
       "    <tr>\n",
       "      <th>91</th>\n",
       "      <td>Indonesia</td>\n",
       "      <td>273,523,621</td>\n",
       "    </tr>\n",
       "    <tr>\n",
       "      <th>145</th>\n",
       "      <td>Pakistan</td>\n",
       "      <td>220,892,331</td>\n",
       "    </tr>\n",
       "    <tr>\n",
       "      <th>27</th>\n",
       "      <td>Brazil</td>\n",
       "      <td>212,559,409</td>\n",
       "    </tr>\n",
       "    <tr>\n",
       "      <th>141</th>\n",
       "      <td>Nigeria</td>\n",
       "      <td>206,139,587</td>\n",
       "    </tr>\n",
       "    <tr>\n",
       "      <th>15</th>\n",
       "      <td>Bangladesh</td>\n",
       "      <td>164,689,383</td>\n",
       "    </tr>\n",
       "    <tr>\n",
       "      <th>157</th>\n",
       "      <td>Russia</td>\n",
       "      <td>145,934,460</td>\n",
       "    </tr>\n",
       "    <tr>\n",
       "      <th>125</th>\n",
       "      <td>Mexico</td>\n",
       "      <td>128,932,753</td>\n",
       "    </tr>\n",
       "  </tbody>\n",
       "</table>\n",
       "</div>"
      ],
      "text/plain": [
       "          location    population\n",
       "41           China 1,439,323,774\n",
       "90           India 1,380,004,385\n",
       "199  United States   331,002,647\n",
       "91       Indonesia   273,523,621\n",
       "145       Pakistan   220,892,331\n",
       "27          Brazil   212,559,409\n",
       "141        Nigeria   206,139,587\n",
       "15      Bangladesh   164,689,383\n",
       "157         Russia   145,934,460\n",
       "125         Mexico   128,932,753"
      ]
     },
     "execution_count": 49,
     "metadata": {},
     "output_type": "execute_result"
    }
   ],
   "source": [
    "pd.options.display.float_format = '{:,.0f}'.format # Format with thousands comma separator\n",
    "most_populous_df"
   ]
  },
  {
   "cell_type": "code",
   "execution_count": 50,
   "metadata": {},
   "outputs": [
    {
     "data": {
      "application/javascript": [
       "window.require && require([\"base/js/namespace\"],function(Jupyter){Jupyter.notebook.save_checkpoint()})"
      ],
      "text/plain": [
       "<IPython.core.display.Javascript object>"
      ]
     },
     "metadata": {},
     "output_type": "display_data"
    },
    {
     "name": "stdout",
     "output_type": "stream",
     "text": [
      "[jovian] Attempting to save notebook..\n",
      "[jovian] Updating notebook \"201812311/pandas-practice-assignment\" on https://jovian.ml/\n",
      "[jovian] Uploading notebook..\n",
      "[jovian] Committed successfully! https://jovian.ml/201812311/pandas-practice-assignment\n"
     ]
    },
    {
     "data": {
      "text/plain": [
       "'https://jovian.ml/201812311/pandas-practice-assignment'"
      ]
     },
     "execution_count": 50,
     "metadata": {},
     "output_type": "execute_result"
    }
   ],
   "source": [
    "jovian.commit(project='pandas-practice-assignment', environment=None)"
   ]
  },
  {
   "cell_type": "markdown",
   "metadata": {},
   "source": [
    "**Q: Add a new column in `countries_df` to record the overall GDP per country (product of population & per capita GDP).**\n",
    "\n"
   ]
  },
  {
   "cell_type": "code",
   "execution_count": 51,
   "metadata": {},
   "outputs": [],
   "source": [
    "countries_df = countries_df.set_index(\"location\")"
   ]
  },
  {
   "cell_type": "code",
   "execution_count": 52,
   "metadata": {},
   "outputs": [],
   "source": [
    "countries_df['gdp'] = countries_df.groupby(\"location\")[\"population\"].sum() * countries_df.groupby(\"location\")[\"gdp_per_capita\"].sum()"
   ]
  },
  {
   "cell_type": "code",
   "execution_count": 75,
   "metadata": {},
   "outputs": [],
   "source": [
    "countries_df = countries_df.reset_index() # Reset index to its original state"
   ]
  },
  {
   "cell_type": "code",
   "execution_count": 60,
   "metadata": {},
   "outputs": [
    {
     "data": {
      "application/javascript": [
       "window.require && require([\"base/js/namespace\"],function(Jupyter){Jupyter.notebook.save_checkpoint()})"
      ],
      "text/plain": [
       "<IPython.core.display.Javascript object>"
      ]
     },
     "metadata": {},
     "output_type": "display_data"
    },
    {
     "name": "stdout",
     "output_type": "stream",
     "text": [
      "[jovian] Attempting to save notebook..\n",
      "[jovian] Updating notebook \"201812311/pandas-practice-assignment\" on https://jovian.ml/\n",
      "[jovian] Uploading notebook..\n",
      "[jovian] Committed successfully! https://jovian.ml/201812311/pandas-practice-assignment\n"
     ]
    },
    {
     "data": {
      "text/plain": [
       "'https://jovian.ml/201812311/pandas-practice-assignment'"
      ]
     },
     "execution_count": 60,
     "metadata": {},
     "output_type": "execute_result"
    }
   ],
   "source": [
    "jovian.commit(project='pandas-practice-assignment', environment=None)"
   ]
  },
  {
   "cell_type": "markdown",
   "metadata": {},
   "source": [
    "**Q: (Optional) Create a dataframe containing 10 countries with the lowest GDP per capita, among the counties with population greater than 100 million.**"
   ]
  },
  {
   "cell_type": "code",
   "execution_count": 77,
   "metadata": {},
   "outputs": [],
   "source": [
    "low_gdp_pop_100m = countries_df[countries_df[\"population\"] > 100000000].sort_values(by=\"gdp_per_capita\").head(10)"
   ]
  },
  {
   "cell_type": "code",
   "execution_count": 78,
   "metadata": {},
   "outputs": [
    {
     "data": {
      "text/html": [
       "<div>\n",
       "<style scoped>\n",
       "    .dataframe tbody tr th:only-of-type {\n",
       "        vertical-align: middle;\n",
       "    }\n",
       "\n",
       "    .dataframe tbody tr th {\n",
       "        vertical-align: top;\n",
       "    }\n",
       "\n",
       "    .dataframe thead th {\n",
       "        text-align: right;\n",
       "    }\n",
       "</style>\n",
       "<table border=\"1\" class=\"dataframe\">\n",
       "  <thead>\n",
       "    <tr style=\"text-align: right;\">\n",
       "      <th></th>\n",
       "      <th>location</th>\n",
       "      <th>continent</th>\n",
       "      <th>population</th>\n",
       "      <th>life_expectancy</th>\n",
       "      <th>hospital_beds_per_thousand</th>\n",
       "      <th>gdp_per_capita</th>\n",
       "      <th>gdp</th>\n",
       "    </tr>\n",
       "  </thead>\n",
       "  <tbody>\n",
       "    <tr>\n",
       "      <th>63</th>\n",
       "      <td>Ethiopia</td>\n",
       "      <td>Africa</td>\n",
       "      <td>114,963,583</td>\n",
       "      <td>67</td>\n",
       "      <td>0</td>\n",
       "      <td>1,730</td>\n",
       "      <td>198,878,606,248</td>\n",
       "    </tr>\n",
       "    <tr>\n",
       "      <th>15</th>\n",
       "      <td>Bangladesh</td>\n",
       "      <td>Asia</td>\n",
       "      <td>164,689,383</td>\n",
       "      <td>73</td>\n",
       "      <td>1</td>\n",
       "      <td>3,524</td>\n",
       "      <td>580,362,750,662</td>\n",
       "    </tr>\n",
       "    <tr>\n",
       "      <th>145</th>\n",
       "      <td>Pakistan</td>\n",
       "      <td>Asia</td>\n",
       "      <td>220,892,331</td>\n",
       "      <td>67</td>\n",
       "      <td>1</td>\n",
       "      <td>5,035</td>\n",
       "      <td>1,112,128,386,024</td>\n",
       "    </tr>\n",
       "    <tr>\n",
       "      <th>141</th>\n",
       "      <td>Nigeria</td>\n",
       "      <td>Africa</td>\n",
       "      <td>206,139,587</td>\n",
       "      <td>55</td>\n",
       "      <td>nan</td>\n",
       "      <td>5,338</td>\n",
       "      <td>1,100,466,702,778</td>\n",
       "    </tr>\n",
       "    <tr>\n",
       "      <th>90</th>\n",
       "      <td>India</td>\n",
       "      <td>Asia</td>\n",
       "      <td>1,380,004,385</td>\n",
       "      <td>70</td>\n",
       "      <td>1</td>\n",
       "      <td>6,427</td>\n",
       "      <td>8,868,838,300,965</td>\n",
       "    </tr>\n",
       "    <tr>\n",
       "      <th>151</th>\n",
       "      <td>Philippines</td>\n",
       "      <td>Asia</td>\n",
       "      <td>109,581,085</td>\n",
       "      <td>71</td>\n",
       "      <td>1</td>\n",
       "      <td>7,599</td>\n",
       "      <td>832,727,266,159</td>\n",
       "    </tr>\n",
       "    <tr>\n",
       "      <th>58</th>\n",
       "      <td>Egypt</td>\n",
       "      <td>Africa</td>\n",
       "      <td>102,334,403</td>\n",
       "      <td>72</td>\n",
       "      <td>2</td>\n",
       "      <td>10,550</td>\n",
       "      <td>1,079,649,032,537</td>\n",
       "    </tr>\n",
       "    <tr>\n",
       "      <th>91</th>\n",
       "      <td>Indonesia</td>\n",
       "      <td>Asia</td>\n",
       "      <td>273,523,621</td>\n",
       "      <td>72</td>\n",
       "      <td>1</td>\n",
       "      <td>11,189</td>\n",
       "      <td>3,060,385,773,322</td>\n",
       "    </tr>\n",
       "    <tr>\n",
       "      <th>27</th>\n",
       "      <td>Brazil</td>\n",
       "      <td>South America</td>\n",
       "      <td>212,559,409</td>\n",
       "      <td>76</td>\n",
       "      <td>2</td>\n",
       "      <td>14,103</td>\n",
       "      <td>2,997,821,421,980</td>\n",
       "    </tr>\n",
       "    <tr>\n",
       "      <th>41</th>\n",
       "      <td>China</td>\n",
       "      <td>Asia</td>\n",
       "      <td>1,439,323,774</td>\n",
       "      <td>77</td>\n",
       "      <td>4</td>\n",
       "      <td>15,309</td>\n",
       "      <td>22,034,193,130,919</td>\n",
       "    </tr>\n",
       "  </tbody>\n",
       "</table>\n",
       "</div>"
      ],
      "text/plain": [
       "        location      continent    population  life_expectancy  \\\n",
       "63      Ethiopia         Africa   114,963,583               67   \n",
       "15    Bangladesh           Asia   164,689,383               73   \n",
       "145     Pakistan           Asia   220,892,331               67   \n",
       "141      Nigeria         Africa   206,139,587               55   \n",
       "90         India           Asia 1,380,004,385               70   \n",
       "151  Philippines           Asia   109,581,085               71   \n",
       "58         Egypt         Africa   102,334,403               72   \n",
       "91     Indonesia           Asia   273,523,621               72   \n",
       "27        Brazil  South America   212,559,409               76   \n",
       "41         China           Asia 1,439,323,774               77   \n",
       "\n",
       "     hospital_beds_per_thousand  gdp_per_capita                gdp  \n",
       "63                            0           1,730    198,878,606,248  \n",
       "15                            1           3,524    580,362,750,662  \n",
       "145                           1           5,035  1,112,128,386,024  \n",
       "141                         nan           5,338  1,100,466,702,778  \n",
       "90                            1           6,427  8,868,838,300,965  \n",
       "151                           1           7,599    832,727,266,159  \n",
       "58                            2          10,550  1,079,649,032,537  \n",
       "91                            1          11,189  3,060,385,773,322  \n",
       "27                            2          14,103  2,997,821,421,980  \n",
       "41                            4          15,309 22,034,193,130,919  "
      ]
     },
     "execution_count": 78,
     "metadata": {},
     "output_type": "execute_result"
    }
   ],
   "source": [
    "low_gdp_pop_100m"
   ]
  },
  {
   "cell_type": "code",
   "execution_count": 71,
   "metadata": {},
   "outputs": [
    {
     "data": {
      "application/javascript": [
       "window.require && require([\"base/js/namespace\"],function(Jupyter){Jupyter.notebook.save_checkpoint()})"
      ],
      "text/plain": [
       "<IPython.core.display.Javascript object>"
      ]
     },
     "metadata": {},
     "output_type": "display_data"
    },
    {
     "name": "stdout",
     "output_type": "stream",
     "text": [
      "[jovian] Attempting to save notebook..\n",
      "[jovian] Updating notebook \"201812311/pandas-practice-assignment\" on https://jovian.ml/\n",
      "[jovian] Uploading notebook..\n",
      "[jovian] Committed successfully! https://jovian.ml/201812311/pandas-practice-assignment\n"
     ]
    },
    {
     "data": {
      "text/plain": [
       "'https://jovian.ml/201812311/pandas-practice-assignment'"
      ]
     },
     "execution_count": 71,
     "metadata": {},
     "output_type": "execute_result"
    }
   ],
   "source": [
    "jovian.commit(project='pandas-practice-assignment', environment=None)"
   ]
  },
  {
   "cell_type": "markdown",
   "metadata": {},
   "source": [
    "**Q: Create a data frame that counts the number countries in each continent?**\n",
    "\n",
    "*Hint: Use `groupby`, select the `location` column and aggregate using `count`.*"
   ]
  },
  {
   "cell_type": "code",
   "execution_count": 110,
   "metadata": {},
   "outputs": [],
   "source": [
    "country_counts_df = countries_df.groupby(\"continent\")[[\"location\"]].count()"
   ]
  },
  {
   "cell_type": "code",
   "execution_count": 114,
   "metadata": {},
   "outputs": [
    {
     "data": {
      "text/html": [
       "<div>\n",
       "<style scoped>\n",
       "    .dataframe tbody tr th:only-of-type {\n",
       "        vertical-align: middle;\n",
       "    }\n",
       "\n",
       "    .dataframe tbody tr th {\n",
       "        vertical-align: top;\n",
       "    }\n",
       "\n",
       "    .dataframe thead th {\n",
       "        text-align: right;\n",
       "    }\n",
       "</style>\n",
       "<table border=\"1\" class=\"dataframe\">\n",
       "  <thead>\n",
       "    <tr style=\"text-align: right;\">\n",
       "      <th></th>\n",
       "      <th>country</th>\n",
       "    </tr>\n",
       "    <tr>\n",
       "      <th>continent</th>\n",
       "      <th></th>\n",
       "    </tr>\n",
       "  </thead>\n",
       "  <tbody>\n",
       "    <tr>\n",
       "      <th>Africa</th>\n",
       "      <td>55</td>\n",
       "    </tr>\n",
       "    <tr>\n",
       "      <th>Asia</th>\n",
       "      <td>47</td>\n",
       "    </tr>\n",
       "    <tr>\n",
       "      <th>Europe</th>\n",
       "      <td>51</td>\n",
       "    </tr>\n",
       "    <tr>\n",
       "      <th>North America</th>\n",
       "      <td>36</td>\n",
       "    </tr>\n",
       "    <tr>\n",
       "      <th>Oceania</th>\n",
       "      <td>8</td>\n",
       "    </tr>\n",
       "    <tr>\n",
       "      <th>South America</th>\n",
       "      <td>13</td>\n",
       "    </tr>\n",
       "  </tbody>\n",
       "</table>\n",
       "</div>"
      ],
      "text/plain": [
       "               country\n",
       "continent             \n",
       "Africa              55\n",
       "Asia                47\n",
       "Europe              51\n",
       "North America       36\n",
       "Oceania              8\n",
       "South America       13"
      ]
     },
     "execution_count": 114,
     "metadata": {},
     "output_type": "execute_result"
    }
   ],
   "source": [
    "country_counts_df.rename(columns={\"location\":\"country\"})"
   ]
  },
  {
   "cell_type": "code",
   "execution_count": 82,
   "metadata": {},
   "outputs": [
    {
     "data": {
      "application/javascript": [
       "window.require && require([\"base/js/namespace\"],function(Jupyter){Jupyter.notebook.save_checkpoint()})"
      ],
      "text/plain": [
       "<IPython.core.display.Javascript object>"
      ]
     },
     "metadata": {},
     "output_type": "display_data"
    },
    {
     "name": "stdout",
     "output_type": "stream",
     "text": [
      "[jovian] Attempting to save notebook..\n",
      "[jovian] Updating notebook \"201812311/pandas-practice-assignment\" on https://jovian.ml/\n",
      "[jovian] Uploading notebook..\n",
      "[jovian] Committed successfully! https://jovian.ml/201812311/pandas-practice-assignment\n"
     ]
    },
    {
     "data": {
      "text/plain": [
       "'https://jovian.ml/201812311/pandas-practice-assignment'"
      ]
     },
     "execution_count": 82,
     "metadata": {},
     "output_type": "execute_result"
    }
   ],
   "source": [
    "jovian.commit(project='pandas-practice-assignment', environment=None)"
   ]
  },
  {
   "cell_type": "markdown",
   "metadata": {},
   "source": [
    "**Q: Create a data frame showing the total population of each continent.**\n",
    "\n",
    "*Hint: Use `groupby`, select the population column and aggregate using `sum`.*"
   ]
  },
  {
   "cell_type": "code",
   "execution_count": 88,
   "metadata": {},
   "outputs": [],
   "source": [
    "continent_populations_df = countries_df.groupby(\"continent\")[[\"continent\", \"population\"]].sum()"
   ]
  },
  {
   "cell_type": "code",
   "execution_count": 115,
   "metadata": {},
   "outputs": [
    {
     "data": {
      "text/html": [
       "<div>\n",
       "<style scoped>\n",
       "    .dataframe tbody tr th:only-of-type {\n",
       "        vertical-align: middle;\n",
       "    }\n",
       "\n",
       "    .dataframe tbody tr th {\n",
       "        vertical-align: top;\n",
       "    }\n",
       "\n",
       "    .dataframe thead th {\n",
       "        text-align: right;\n",
       "    }\n",
       "</style>\n",
       "<table border=\"1\" class=\"dataframe\">\n",
       "  <thead>\n",
       "    <tr style=\"text-align: right;\">\n",
       "      <th></th>\n",
       "      <th>population</th>\n",
       "    </tr>\n",
       "    <tr>\n",
       "      <th>continent</th>\n",
       "      <th></th>\n",
       "    </tr>\n",
       "  </thead>\n",
       "  <tbody>\n",
       "    <tr>\n",
       "      <th>Africa</th>\n",
       "      <td>1,339,423,921</td>\n",
       "    </tr>\n",
       "    <tr>\n",
       "      <th>Asia</th>\n",
       "      <td>4,607,388,081</td>\n",
       "    </tr>\n",
       "    <tr>\n",
       "      <th>Europe</th>\n",
       "      <td>748,506,210</td>\n",
       "    </tr>\n",
       "    <tr>\n",
       "      <th>North America</th>\n",
       "      <td>591,242,473</td>\n",
       "    </tr>\n",
       "    <tr>\n",
       "      <th>Oceania</th>\n",
       "      <td>40,958,320</td>\n",
       "    </tr>\n",
       "    <tr>\n",
       "      <th>South America</th>\n",
       "      <td>430,461,090</td>\n",
       "    </tr>\n",
       "  </tbody>\n",
       "</table>\n",
       "</div>"
      ],
      "text/plain": [
       "                 population\n",
       "continent                  \n",
       "Africa        1,339,423,921\n",
       "Asia          4,607,388,081\n",
       "Europe          748,506,210\n",
       "North America   591,242,473\n",
       "Oceania          40,958,320\n",
       "South America   430,461,090"
      ]
     },
     "execution_count": 115,
     "metadata": {},
     "output_type": "execute_result"
    }
   ],
   "source": [
    "continent_populations_df"
   ]
  },
  {
   "cell_type": "code",
   "execution_count": 116,
   "metadata": {},
   "outputs": [
    {
     "data": {
      "application/javascript": [
       "window.require && require([\"base/js/namespace\"],function(Jupyter){Jupyter.notebook.save_checkpoint()})"
      ],
      "text/plain": [
       "<IPython.core.display.Javascript object>"
      ]
     },
     "metadata": {},
     "output_type": "display_data"
    },
    {
     "name": "stdout",
     "output_type": "stream",
     "text": [
      "[jovian] Attempting to save notebook..\n",
      "[jovian] Updating notebook \"201812311/pandas-practice-assignment\" on https://jovian.ml/\n",
      "[jovian] Uploading notebook..\n",
      "[jovian] Committed successfully! https://jovian.ml/201812311/pandas-practice-assignment\n"
     ]
    },
    {
     "data": {
      "text/plain": [
       "'https://jovian.ml/201812311/pandas-practice-assignment'"
      ]
     },
     "execution_count": 116,
     "metadata": {},
     "output_type": "execute_result"
    }
   ],
   "source": [
    "jovian.commit(project='pandas-practice-assignment', environment=None)"
   ]
  },
  {
   "cell_type": "markdown",
   "metadata": {},
   "source": [
    "Let's download another CSV file containing overall Covid-19 stats for various countires, and read the data into another Pandas data frame."
   ]
  },
  {
   "cell_type": "code",
   "execution_count": 117,
   "metadata": {},
   "outputs": [
    {
     "data": {
      "text/plain": [
       "('covid-countries-data.csv', <http.client.HTTPMessage at 0x16afe3a8700>)"
      ]
     },
     "execution_count": 117,
     "metadata": {},
     "output_type": "execute_result"
    }
   ],
   "source": [
    "urlretrieve('https://hub.jovian.ml/wp-content/uploads/2020/09/covid-countries-data.csv', \n",
    "            'covid-countries-data.csv')"
   ]
  },
  {
   "cell_type": "code",
   "execution_count": 118,
   "metadata": {},
   "outputs": [],
   "source": [
    "covid_data_df = pd.read_csv('covid-countries-data.csv')"
   ]
  },
  {
   "cell_type": "code",
   "execution_count": 119,
   "metadata": {
    "scrolled": true
   },
   "outputs": [
    {
     "data": {
      "text/html": [
       "<div>\n",
       "<style scoped>\n",
       "    .dataframe tbody tr th:only-of-type {\n",
       "        vertical-align: middle;\n",
       "    }\n",
       "\n",
       "    .dataframe tbody tr th {\n",
       "        vertical-align: top;\n",
       "    }\n",
       "\n",
       "    .dataframe thead th {\n",
       "        text-align: right;\n",
       "    }\n",
       "</style>\n",
       "<table border=\"1\" class=\"dataframe\">\n",
       "  <thead>\n",
       "    <tr style=\"text-align: right;\">\n",
       "      <th></th>\n",
       "      <th>location</th>\n",
       "      <th>total_cases</th>\n",
       "      <th>total_deaths</th>\n",
       "      <th>total_tests</th>\n",
       "    </tr>\n",
       "  </thead>\n",
       "  <tbody>\n",
       "    <tr>\n",
       "      <th>0</th>\n",
       "      <td>Afghanistan</td>\n",
       "      <td>38,243</td>\n",
       "      <td>1,409</td>\n",
       "      <td>nan</td>\n",
       "    </tr>\n",
       "    <tr>\n",
       "      <th>1</th>\n",
       "      <td>Albania</td>\n",
       "      <td>9,728</td>\n",
       "      <td>296</td>\n",
       "      <td>nan</td>\n",
       "    </tr>\n",
       "    <tr>\n",
       "      <th>2</th>\n",
       "      <td>Algeria</td>\n",
       "      <td>45,158</td>\n",
       "      <td>1,525</td>\n",
       "      <td>nan</td>\n",
       "    </tr>\n",
       "    <tr>\n",
       "      <th>3</th>\n",
       "      <td>Andorra</td>\n",
       "      <td>1,199</td>\n",
       "      <td>53</td>\n",
       "      <td>nan</td>\n",
       "    </tr>\n",
       "    <tr>\n",
       "      <th>4</th>\n",
       "      <td>Angola</td>\n",
       "      <td>2,729</td>\n",
       "      <td>109</td>\n",
       "      <td>nan</td>\n",
       "    </tr>\n",
       "    <tr>\n",
       "      <th>...</th>\n",
       "      <td>...</td>\n",
       "      <td>...</td>\n",
       "      <td>...</td>\n",
       "      <td>...</td>\n",
       "    </tr>\n",
       "    <tr>\n",
       "      <th>207</th>\n",
       "      <td>Western Sahara</td>\n",
       "      <td>766</td>\n",
       "      <td>1</td>\n",
       "      <td>nan</td>\n",
       "    </tr>\n",
       "    <tr>\n",
       "      <th>208</th>\n",
       "      <td>World</td>\n",
       "      <td>26,059,065</td>\n",
       "      <td>863,535</td>\n",
       "      <td>nan</td>\n",
       "    </tr>\n",
       "    <tr>\n",
       "      <th>209</th>\n",
       "      <td>Yemen</td>\n",
       "      <td>1,976</td>\n",
       "      <td>571</td>\n",
       "      <td>nan</td>\n",
       "    </tr>\n",
       "    <tr>\n",
       "      <th>210</th>\n",
       "      <td>Zambia</td>\n",
       "      <td>12,415</td>\n",
       "      <td>292</td>\n",
       "      <td>nan</td>\n",
       "    </tr>\n",
       "    <tr>\n",
       "      <th>211</th>\n",
       "      <td>Zimbabwe</td>\n",
       "      <td>6,638</td>\n",
       "      <td>206</td>\n",
       "      <td>97,272</td>\n",
       "    </tr>\n",
       "  </tbody>\n",
       "</table>\n",
       "<p>212 rows × 4 columns</p>\n",
       "</div>"
      ],
      "text/plain": [
       "           location  total_cases  total_deaths  total_tests\n",
       "0       Afghanistan       38,243         1,409          nan\n",
       "1           Albania        9,728           296          nan\n",
       "2           Algeria       45,158         1,525          nan\n",
       "3           Andorra        1,199            53          nan\n",
       "4            Angola        2,729           109          nan\n",
       "..              ...          ...           ...          ...\n",
       "207  Western Sahara          766             1          nan\n",
       "208           World   26,059,065       863,535          nan\n",
       "209           Yemen        1,976           571          nan\n",
       "210          Zambia       12,415           292          nan\n",
       "211        Zimbabwe        6,638           206       97,272\n",
       "\n",
       "[212 rows x 4 columns]"
      ]
     },
     "execution_count": 119,
     "metadata": {},
     "output_type": "execute_result"
    }
   ],
   "source": [
    "covid_data_df"
   ]
  },
  {
   "cell_type": "markdown",
   "metadata": {},
   "source": [
    "**Q: Count the number of countries for which the `total_tests` data is missing.**\n",
    "\n",
    "*Hint: Use the `.isna` method.*"
   ]
  },
  {
   "cell_type": "code",
   "execution_count": 134,
   "metadata": {},
   "outputs": [],
   "source": [
    "total_tests_missing = covid_data_df.isna().shape[0]"
   ]
  },
  {
   "cell_type": "code",
   "execution_count": 135,
   "metadata": {},
   "outputs": [
    {
     "name": "stdout",
     "output_type": "stream",
     "text": [
      "The data for total tests is missing for 212 countries.\n"
     ]
    }
   ],
   "source": [
    "print(\"The data for total tests is missing for {} countries.\".format(int(total_tests_missing)))"
   ]
  },
  {
   "cell_type": "code",
   "execution_count": 136,
   "metadata": {},
   "outputs": [
    {
     "data": {
      "application/javascript": [
       "window.require && require([\"base/js/namespace\"],function(Jupyter){Jupyter.notebook.save_checkpoint()})"
      ],
      "text/plain": [
       "<IPython.core.display.Javascript object>"
      ]
     },
     "metadata": {},
     "output_type": "display_data"
    },
    {
     "name": "stdout",
     "output_type": "stream",
     "text": [
      "[jovian] Attempting to save notebook..\n",
      "[jovian] Updating notebook \"201812311/pandas-practice-assignment\" on https://jovian.ml/\n",
      "[jovian] Uploading notebook..\n",
      "[jovian] Committed successfully! https://jovian.ml/201812311/pandas-practice-assignment\n"
     ]
    },
    {
     "data": {
      "text/plain": [
       "'https://jovian.ml/201812311/pandas-practice-assignment'"
      ]
     },
     "execution_count": 136,
     "metadata": {},
     "output_type": "execute_result"
    }
   ],
   "source": [
    "jovian.commit(project='pandas-practice-assignment', environment=None)"
   ]
  },
  {
   "cell_type": "markdown",
   "metadata": {},
   "source": [
    "Let's merge the two data frames, and compute some more metrics.\n",
    "\n",
    "**Q: Merge `countries_df` with `covid_data_df` on the `location` column.**\n",
    "\n",
    "*Hint: Use the `.merge` method on `countries_df`."
   ]
  },
  {
   "cell_type": "code",
   "execution_count": 137,
   "metadata": {},
   "outputs": [],
   "source": [
    "combined_df = countries_df.merge(covid_data_df, left_on=\"location\", right_on=\"location\")"
   ]
  },
  {
   "cell_type": "code",
   "execution_count": 138,
   "metadata": {},
   "outputs": [
    {
     "data": {
      "text/html": [
       "<div>\n",
       "<style scoped>\n",
       "    .dataframe tbody tr th:only-of-type {\n",
       "        vertical-align: middle;\n",
       "    }\n",
       "\n",
       "    .dataframe tbody tr th {\n",
       "        vertical-align: top;\n",
       "    }\n",
       "\n",
       "    .dataframe thead th {\n",
       "        text-align: right;\n",
       "    }\n",
       "</style>\n",
       "<table border=\"1\" class=\"dataframe\">\n",
       "  <thead>\n",
       "    <tr style=\"text-align: right;\">\n",
       "      <th></th>\n",
       "      <th>location</th>\n",
       "      <th>continent</th>\n",
       "      <th>population</th>\n",
       "      <th>life_expectancy</th>\n",
       "      <th>hospital_beds_per_thousand</th>\n",
       "      <th>gdp_per_capita</th>\n",
       "      <th>gdp</th>\n",
       "      <th>total_cases</th>\n",
       "      <th>total_deaths</th>\n",
       "      <th>total_tests</th>\n",
       "    </tr>\n",
       "  </thead>\n",
       "  <tbody>\n",
       "    <tr>\n",
       "      <th>0</th>\n",
       "      <td>Afghanistan</td>\n",
       "      <td>Asia</td>\n",
       "      <td>38,928,341</td>\n",
       "      <td>65</td>\n",
       "      <td>0</td>\n",
       "      <td>1,804</td>\n",
       "      <td>70,226,221,096</td>\n",
       "      <td>38,243</td>\n",
       "      <td>1,409</td>\n",
       "      <td>nan</td>\n",
       "    </tr>\n",
       "    <tr>\n",
       "      <th>1</th>\n",
       "      <td>Albania</td>\n",
       "      <td>Europe</td>\n",
       "      <td>2,877,800</td>\n",
       "      <td>79</td>\n",
       "      <td>3</td>\n",
       "      <td>11,803</td>\n",
       "      <td>33,967,913,732</td>\n",
       "      <td>9,728</td>\n",
       "      <td>296</td>\n",
       "      <td>nan</td>\n",
       "    </tr>\n",
       "    <tr>\n",
       "      <th>2</th>\n",
       "      <td>Algeria</td>\n",
       "      <td>Africa</td>\n",
       "      <td>43,851,043</td>\n",
       "      <td>77</td>\n",
       "      <td>2</td>\n",
       "      <td>13,914</td>\n",
       "      <td>610,136,352,284</td>\n",
       "      <td>45,158</td>\n",
       "      <td>1,525</td>\n",
       "      <td>nan</td>\n",
       "    </tr>\n",
       "    <tr>\n",
       "      <th>3</th>\n",
       "      <td>Andorra</td>\n",
       "      <td>Europe</td>\n",
       "      <td>77,265</td>\n",
       "      <td>84</td>\n",
       "      <td>nan</td>\n",
       "      <td>nan</td>\n",
       "      <td>0</td>\n",
       "      <td>1,199</td>\n",
       "      <td>53</td>\n",
       "      <td>nan</td>\n",
       "    </tr>\n",
       "    <tr>\n",
       "      <th>4</th>\n",
       "      <td>Angola</td>\n",
       "      <td>Africa</td>\n",
       "      <td>32,866,268</td>\n",
       "      <td>61</td>\n",
       "      <td>nan</td>\n",
       "      <td>5,819</td>\n",
       "      <td>191,265,082,295</td>\n",
       "      <td>2,729</td>\n",
       "      <td>109</td>\n",
       "      <td>nan</td>\n",
       "    </tr>\n",
       "    <tr>\n",
       "      <th>...</th>\n",
       "      <td>...</td>\n",
       "      <td>...</td>\n",
       "      <td>...</td>\n",
       "      <td>...</td>\n",
       "      <td>...</td>\n",
       "      <td>...</td>\n",
       "      <td>...</td>\n",
       "      <td>...</td>\n",
       "      <td>...</td>\n",
       "      <td>...</td>\n",
       "    </tr>\n",
       "    <tr>\n",
       "      <th>205</th>\n",
       "      <td>Vietnam</td>\n",
       "      <td>Asia</td>\n",
       "      <td>97,338,583</td>\n",
       "      <td>75</td>\n",
       "      <td>3</td>\n",
       "      <td>6,172</td>\n",
       "      <td>600,762,443,000</td>\n",
       "      <td>1,046</td>\n",
       "      <td>35</td>\n",
       "      <td>261,004</td>\n",
       "    </tr>\n",
       "    <tr>\n",
       "      <th>206</th>\n",
       "      <td>Western Sahara</td>\n",
       "      <td>Africa</td>\n",
       "      <td>597,330</td>\n",
       "      <td>70</td>\n",
       "      <td>nan</td>\n",
       "      <td>nan</td>\n",
       "      <td>0</td>\n",
       "      <td>766</td>\n",
       "      <td>1</td>\n",
       "      <td>nan</td>\n",
       "    </tr>\n",
       "    <tr>\n",
       "      <th>207</th>\n",
       "      <td>Yemen</td>\n",
       "      <td>Asia</td>\n",
       "      <td>29,825,968</td>\n",
       "      <td>66</td>\n",
       "      <td>1</td>\n",
       "      <td>1,479</td>\n",
       "      <td>44,116,991,089</td>\n",
       "      <td>1,976</td>\n",
       "      <td>571</td>\n",
       "      <td>nan</td>\n",
       "    </tr>\n",
       "    <tr>\n",
       "      <th>208</th>\n",
       "      <td>Zambia</td>\n",
       "      <td>Africa</td>\n",
       "      <td>18,383,956</td>\n",
       "      <td>64</td>\n",
       "      <td>2</td>\n",
       "      <td>3,689</td>\n",
       "      <td>67,823,028,057</td>\n",
       "      <td>12,415</td>\n",
       "      <td>292</td>\n",
       "      <td>nan</td>\n",
       "    </tr>\n",
       "    <tr>\n",
       "      <th>209</th>\n",
       "      <td>Zimbabwe</td>\n",
       "      <td>Africa</td>\n",
       "      <td>14,862,927</td>\n",
       "      <td>61</td>\n",
       "      <td>2</td>\n",
       "      <td>1,900</td>\n",
       "      <td>28,236,217,141</td>\n",
       "      <td>6,638</td>\n",
       "      <td>206</td>\n",
       "      <td>97,272</td>\n",
       "    </tr>\n",
       "  </tbody>\n",
       "</table>\n",
       "<p>210 rows × 10 columns</p>\n",
       "</div>"
      ],
      "text/plain": [
       "           location continent  population  life_expectancy  \\\n",
       "0       Afghanistan      Asia  38,928,341               65   \n",
       "1           Albania    Europe   2,877,800               79   \n",
       "2           Algeria    Africa  43,851,043               77   \n",
       "3           Andorra    Europe      77,265               84   \n",
       "4            Angola    Africa  32,866,268               61   \n",
       "..              ...       ...         ...              ...   \n",
       "205         Vietnam      Asia  97,338,583               75   \n",
       "206  Western Sahara    Africa     597,330               70   \n",
       "207           Yemen      Asia  29,825,968               66   \n",
       "208          Zambia    Africa  18,383,956               64   \n",
       "209        Zimbabwe    Africa  14,862,927               61   \n",
       "\n",
       "     hospital_beds_per_thousand  gdp_per_capita             gdp  total_cases  \\\n",
       "0                             0           1,804  70,226,221,096       38,243   \n",
       "1                             3          11,803  33,967,913,732        9,728   \n",
       "2                             2          13,914 610,136,352,284       45,158   \n",
       "3                           nan             nan               0        1,199   \n",
       "4                           nan           5,819 191,265,082,295        2,729   \n",
       "..                          ...             ...             ...          ...   \n",
       "205                           3           6,172 600,762,443,000        1,046   \n",
       "206                         nan             nan               0          766   \n",
       "207                           1           1,479  44,116,991,089        1,976   \n",
       "208                           2           3,689  67,823,028,057       12,415   \n",
       "209                           2           1,900  28,236,217,141        6,638   \n",
       "\n",
       "     total_deaths  total_tests  \n",
       "0           1,409          nan  \n",
       "1             296          nan  \n",
       "2           1,525          nan  \n",
       "3              53          nan  \n",
       "4             109          nan  \n",
       "..            ...          ...  \n",
       "205            35      261,004  \n",
       "206             1          nan  \n",
       "207           571          nan  \n",
       "208           292          nan  \n",
       "209           206       97,272  \n",
       "\n",
       "[210 rows x 10 columns]"
      ]
     },
     "execution_count": 138,
     "metadata": {},
     "output_type": "execute_result"
    }
   ],
   "source": [
    "combined_df"
   ]
  },
  {
   "cell_type": "code",
   "execution_count": 139,
   "metadata": {},
   "outputs": [
    {
     "data": {
      "application/javascript": [
       "window.require && require([\"base/js/namespace\"],function(Jupyter){Jupyter.notebook.save_checkpoint()})"
      ],
      "text/plain": [
       "<IPython.core.display.Javascript object>"
      ]
     },
     "metadata": {},
     "output_type": "display_data"
    },
    {
     "name": "stdout",
     "output_type": "stream",
     "text": [
      "[jovian] Attempting to save notebook..\n",
      "[jovian] Updating notebook \"201812311/pandas-practice-assignment\" on https://jovian.ml/\n",
      "[jovian] Uploading notebook..\n",
      "[jovian] Committed successfully! https://jovian.ml/201812311/pandas-practice-assignment\n"
     ]
    },
    {
     "data": {
      "text/plain": [
       "'https://jovian.ml/201812311/pandas-practice-assignment'"
      ]
     },
     "execution_count": 139,
     "metadata": {},
     "output_type": "execute_result"
    }
   ],
   "source": [
    "jovian.commit(project='pandas-practice-assignment', environment=None)"
   ]
  },
  {
   "cell_type": "markdown",
   "metadata": {},
   "source": [
    "**Q: Add columns `tests_per_million`, `cases_per_million` and `deaths_per_million` into `combined_df`.**"
   ]
  },
  {
   "cell_type": "code",
   "execution_count": 140,
   "metadata": {},
   "outputs": [],
   "source": [
    "combined_df['tests_per_million'] = combined_df['total_tests'] * 1e6 / combined_df['population']"
   ]
  },
  {
   "cell_type": "code",
   "execution_count": 141,
   "metadata": {},
   "outputs": [],
   "source": [
    "combined_df['cases_per_million'] = combined_df['total_cases'] * 1e6 / combined_df['population']"
   ]
  },
  {
   "cell_type": "code",
   "execution_count": 142,
   "metadata": {},
   "outputs": [],
   "source": [
    "combined_df['deaths_per_million'] = combined_df['total_deaths'] * 1e6 / combined_df['population']"
   ]
  },
  {
   "cell_type": "code",
   "execution_count": 143,
   "metadata": {},
   "outputs": [
    {
     "data": {
      "text/html": [
       "<div>\n",
       "<style scoped>\n",
       "    .dataframe tbody tr th:only-of-type {\n",
       "        vertical-align: middle;\n",
       "    }\n",
       "\n",
       "    .dataframe tbody tr th {\n",
       "        vertical-align: top;\n",
       "    }\n",
       "\n",
       "    .dataframe thead th {\n",
       "        text-align: right;\n",
       "    }\n",
       "</style>\n",
       "<table border=\"1\" class=\"dataframe\">\n",
       "  <thead>\n",
       "    <tr style=\"text-align: right;\">\n",
       "      <th></th>\n",
       "      <th>location</th>\n",
       "      <th>continent</th>\n",
       "      <th>population</th>\n",
       "      <th>life_expectancy</th>\n",
       "      <th>hospital_beds_per_thousand</th>\n",
       "      <th>gdp_per_capita</th>\n",
       "      <th>gdp</th>\n",
       "      <th>total_cases</th>\n",
       "      <th>total_deaths</th>\n",
       "      <th>total_tests</th>\n",
       "      <th>tests_per_million</th>\n",
       "      <th>cases_per_million</th>\n",
       "      <th>deaths_per_million</th>\n",
       "    </tr>\n",
       "  </thead>\n",
       "  <tbody>\n",
       "    <tr>\n",
       "      <th>0</th>\n",
       "      <td>Afghanistan</td>\n",
       "      <td>Asia</td>\n",
       "      <td>38,928,341</td>\n",
       "      <td>65</td>\n",
       "      <td>0</td>\n",
       "      <td>1,804</td>\n",
       "      <td>70,226,221,096</td>\n",
       "      <td>38,243</td>\n",
       "      <td>1,409</td>\n",
       "      <td>nan</td>\n",
       "      <td>nan</td>\n",
       "      <td>982</td>\n",
       "      <td>36</td>\n",
       "    </tr>\n",
       "    <tr>\n",
       "      <th>1</th>\n",
       "      <td>Albania</td>\n",
       "      <td>Europe</td>\n",
       "      <td>2,877,800</td>\n",
       "      <td>79</td>\n",
       "      <td>3</td>\n",
       "      <td>11,803</td>\n",
       "      <td>33,967,913,732</td>\n",
       "      <td>9,728</td>\n",
       "      <td>296</td>\n",
       "      <td>nan</td>\n",
       "      <td>nan</td>\n",
       "      <td>3,380</td>\n",
       "      <td>103</td>\n",
       "    </tr>\n",
       "    <tr>\n",
       "      <th>2</th>\n",
       "      <td>Algeria</td>\n",
       "      <td>Africa</td>\n",
       "      <td>43,851,043</td>\n",
       "      <td>77</td>\n",
       "      <td>2</td>\n",
       "      <td>13,914</td>\n",
       "      <td>610,136,352,284</td>\n",
       "      <td>45,158</td>\n",
       "      <td>1,525</td>\n",
       "      <td>nan</td>\n",
       "      <td>nan</td>\n",
       "      <td>1,030</td>\n",
       "      <td>35</td>\n",
       "    </tr>\n",
       "    <tr>\n",
       "      <th>3</th>\n",
       "      <td>Andorra</td>\n",
       "      <td>Europe</td>\n",
       "      <td>77,265</td>\n",
       "      <td>84</td>\n",
       "      <td>nan</td>\n",
       "      <td>nan</td>\n",
       "      <td>0</td>\n",
       "      <td>1,199</td>\n",
       "      <td>53</td>\n",
       "      <td>nan</td>\n",
       "      <td>nan</td>\n",
       "      <td>15,518</td>\n",
       "      <td>686</td>\n",
       "    </tr>\n",
       "    <tr>\n",
       "      <th>4</th>\n",
       "      <td>Angola</td>\n",
       "      <td>Africa</td>\n",
       "      <td>32,866,268</td>\n",
       "      <td>61</td>\n",
       "      <td>nan</td>\n",
       "      <td>5,819</td>\n",
       "      <td>191,265,082,295</td>\n",
       "      <td>2,729</td>\n",
       "      <td>109</td>\n",
       "      <td>nan</td>\n",
       "      <td>nan</td>\n",
       "      <td>83</td>\n",
       "      <td>3</td>\n",
       "    </tr>\n",
       "    <tr>\n",
       "      <th>...</th>\n",
       "      <td>...</td>\n",
       "      <td>...</td>\n",
       "      <td>...</td>\n",
       "      <td>...</td>\n",
       "      <td>...</td>\n",
       "      <td>...</td>\n",
       "      <td>...</td>\n",
       "      <td>...</td>\n",
       "      <td>...</td>\n",
       "      <td>...</td>\n",
       "      <td>...</td>\n",
       "      <td>...</td>\n",
       "      <td>...</td>\n",
       "    </tr>\n",
       "    <tr>\n",
       "      <th>205</th>\n",
       "      <td>Vietnam</td>\n",
       "      <td>Asia</td>\n",
       "      <td>97,338,583</td>\n",
       "      <td>75</td>\n",
       "      <td>3</td>\n",
       "      <td>6,172</td>\n",
       "      <td>600,762,443,000</td>\n",
       "      <td>1,046</td>\n",
       "      <td>35</td>\n",
       "      <td>261,004</td>\n",
       "      <td>2,681</td>\n",
       "      <td>11</td>\n",
       "      <td>0</td>\n",
       "    </tr>\n",
       "    <tr>\n",
       "      <th>206</th>\n",
       "      <td>Western Sahara</td>\n",
       "      <td>Africa</td>\n",
       "      <td>597,330</td>\n",
       "      <td>70</td>\n",
       "      <td>nan</td>\n",
       "      <td>nan</td>\n",
       "      <td>0</td>\n",
       "      <td>766</td>\n",
       "      <td>1</td>\n",
       "      <td>nan</td>\n",
       "      <td>nan</td>\n",
       "      <td>1,282</td>\n",
       "      <td>2</td>\n",
       "    </tr>\n",
       "    <tr>\n",
       "      <th>207</th>\n",
       "      <td>Yemen</td>\n",
       "      <td>Asia</td>\n",
       "      <td>29,825,968</td>\n",
       "      <td>66</td>\n",
       "      <td>1</td>\n",
       "      <td>1,479</td>\n",
       "      <td>44,116,991,089</td>\n",
       "      <td>1,976</td>\n",
       "      <td>571</td>\n",
       "      <td>nan</td>\n",
       "      <td>nan</td>\n",
       "      <td>66</td>\n",
       "      <td>19</td>\n",
       "    </tr>\n",
       "    <tr>\n",
       "      <th>208</th>\n",
       "      <td>Zambia</td>\n",
       "      <td>Africa</td>\n",
       "      <td>18,383,956</td>\n",
       "      <td>64</td>\n",
       "      <td>2</td>\n",
       "      <td>3,689</td>\n",
       "      <td>67,823,028,057</td>\n",
       "      <td>12,415</td>\n",
       "      <td>292</td>\n",
       "      <td>nan</td>\n",
       "      <td>nan</td>\n",
       "      <td>675</td>\n",
       "      <td>16</td>\n",
       "    </tr>\n",
       "    <tr>\n",
       "      <th>209</th>\n",
       "      <td>Zimbabwe</td>\n",
       "      <td>Africa</td>\n",
       "      <td>14,862,927</td>\n",
       "      <td>61</td>\n",
       "      <td>2</td>\n",
       "      <td>1,900</td>\n",
       "      <td>28,236,217,141</td>\n",
       "      <td>6,638</td>\n",
       "      <td>206</td>\n",
       "      <td>97,272</td>\n",
       "      <td>6,545</td>\n",
       "      <td>447</td>\n",
       "      <td>14</td>\n",
       "    </tr>\n",
       "  </tbody>\n",
       "</table>\n",
       "<p>210 rows × 13 columns</p>\n",
       "</div>"
      ],
      "text/plain": [
       "           location continent  population  life_expectancy  \\\n",
       "0       Afghanistan      Asia  38,928,341               65   \n",
       "1           Albania    Europe   2,877,800               79   \n",
       "2           Algeria    Africa  43,851,043               77   \n",
       "3           Andorra    Europe      77,265               84   \n",
       "4            Angola    Africa  32,866,268               61   \n",
       "..              ...       ...         ...              ...   \n",
       "205         Vietnam      Asia  97,338,583               75   \n",
       "206  Western Sahara    Africa     597,330               70   \n",
       "207           Yemen      Asia  29,825,968               66   \n",
       "208          Zambia    Africa  18,383,956               64   \n",
       "209        Zimbabwe    Africa  14,862,927               61   \n",
       "\n",
       "     hospital_beds_per_thousand  gdp_per_capita             gdp  total_cases  \\\n",
       "0                             0           1,804  70,226,221,096       38,243   \n",
       "1                             3          11,803  33,967,913,732        9,728   \n",
       "2                             2          13,914 610,136,352,284       45,158   \n",
       "3                           nan             nan               0        1,199   \n",
       "4                           nan           5,819 191,265,082,295        2,729   \n",
       "..                          ...             ...             ...          ...   \n",
       "205                           3           6,172 600,762,443,000        1,046   \n",
       "206                         nan             nan               0          766   \n",
       "207                           1           1,479  44,116,991,089        1,976   \n",
       "208                           2           3,689  67,823,028,057       12,415   \n",
       "209                           2           1,900  28,236,217,141        6,638   \n",
       "\n",
       "     total_deaths  total_tests  tests_per_million  cases_per_million  \\\n",
       "0           1,409          nan                nan                982   \n",
       "1             296          nan                nan              3,380   \n",
       "2           1,525          nan                nan              1,030   \n",
       "3              53          nan                nan             15,518   \n",
       "4             109          nan                nan                 83   \n",
       "..            ...          ...                ...                ...   \n",
       "205            35      261,004              2,681                 11   \n",
       "206             1          nan                nan              1,282   \n",
       "207           571          nan                nan                 66   \n",
       "208           292          nan                nan                675   \n",
       "209           206       97,272              6,545                447   \n",
       "\n",
       "     deaths_per_million  \n",
       "0                    36  \n",
       "1                   103  \n",
       "2                    35  \n",
       "3                   686  \n",
       "4                     3  \n",
       "..                  ...  \n",
       "205                   0  \n",
       "206                   2  \n",
       "207                  19  \n",
       "208                  16  \n",
       "209                  14  \n",
       "\n",
       "[210 rows x 13 columns]"
      ]
     },
     "execution_count": 143,
     "metadata": {},
     "output_type": "execute_result"
    }
   ],
   "source": [
    "combined_df"
   ]
  },
  {
   "cell_type": "code",
   "execution_count": 144,
   "metadata": {},
   "outputs": [
    {
     "data": {
      "application/javascript": [
       "window.require && require([\"base/js/namespace\"],function(Jupyter){Jupyter.notebook.save_checkpoint()})"
      ],
      "text/plain": [
       "<IPython.core.display.Javascript object>"
      ]
     },
     "metadata": {},
     "output_type": "display_data"
    },
    {
     "name": "stdout",
     "output_type": "stream",
     "text": [
      "[jovian] Attempting to save notebook..\n",
      "[jovian] Updating notebook \"201812311/pandas-practice-assignment\" on https://jovian.ml/\n",
      "[jovian] Uploading notebook..\n",
      "[jovian] Committed successfully! https://jovian.ml/201812311/pandas-practice-assignment\n"
     ]
    },
    {
     "data": {
      "text/plain": [
       "'https://jovian.ml/201812311/pandas-practice-assignment'"
      ]
     },
     "execution_count": 144,
     "metadata": {},
     "output_type": "execute_result"
    }
   ],
   "source": [
    "jovian.commit(project='pandas-practice-assignment', environment=None)"
   ]
  },
  {
   "cell_type": "markdown",
   "metadata": {},
   "source": [
    "**Q: Create a dataframe with 10 countires that have highest number of tests per million people.**"
   ]
  },
  {
   "cell_type": "code",
   "execution_count": 147,
   "metadata": {},
   "outputs": [],
   "source": [
    "highest_tests_df = combined_df[[\"location\", \"tests_per_million\"]].sort_values(ascending=False, by=\"tests_per_million\").head(10)"
   ]
  },
  {
   "cell_type": "code",
   "execution_count": 148,
   "metadata": {},
   "outputs": [
    {
     "data": {
      "text/html": [
       "<div>\n",
       "<style scoped>\n",
       "    .dataframe tbody tr th:only-of-type {\n",
       "        vertical-align: middle;\n",
       "    }\n",
       "\n",
       "    .dataframe tbody tr th {\n",
       "        vertical-align: top;\n",
       "    }\n",
       "\n",
       "    .dataframe thead th {\n",
       "        text-align: right;\n",
       "    }\n",
       "</style>\n",
       "<table border=\"1\" class=\"dataframe\">\n",
       "  <thead>\n",
       "    <tr style=\"text-align: right;\">\n",
       "      <th></th>\n",
       "      <th>location</th>\n",
       "      <th>tests_per_million</th>\n",
       "    </tr>\n",
       "  </thead>\n",
       "  <tbody>\n",
       "    <tr>\n",
       "      <th>197</th>\n",
       "      <td>United Arab Emirates</td>\n",
       "      <td>725,697</td>\n",
       "    </tr>\n",
       "    <tr>\n",
       "      <th>14</th>\n",
       "      <td>Bahrain</td>\n",
       "      <td>657,527</td>\n",
       "    </tr>\n",
       "    <tr>\n",
       "      <th>115</th>\n",
       "      <td>Luxembourg</td>\n",
       "      <td>616,350</td>\n",
       "    </tr>\n",
       "    <tr>\n",
       "      <th>122</th>\n",
       "      <td>Malta</td>\n",
       "      <td>427,004</td>\n",
       "    </tr>\n",
       "    <tr>\n",
       "      <th>53</th>\n",
       "      <td>Denmark</td>\n",
       "      <td>422,622</td>\n",
       "    </tr>\n",
       "    <tr>\n",
       "      <th>96</th>\n",
       "      <td>Israel</td>\n",
       "      <td>271,963</td>\n",
       "    </tr>\n",
       "    <tr>\n",
       "      <th>89</th>\n",
       "      <td>Iceland</td>\n",
       "      <td>260,305</td>\n",
       "    </tr>\n",
       "    <tr>\n",
       "      <th>157</th>\n",
       "      <td>Russia</td>\n",
       "      <td>254,750</td>\n",
       "    </tr>\n",
       "    <tr>\n",
       "      <th>199</th>\n",
       "      <td>United States</td>\n",
       "      <td>253,468</td>\n",
       "    </tr>\n",
       "    <tr>\n",
       "      <th>10</th>\n",
       "      <td>Australia</td>\n",
       "      <td>245,327</td>\n",
       "    </tr>\n",
       "  </tbody>\n",
       "</table>\n",
       "</div>"
      ],
      "text/plain": [
       "                 location  tests_per_million\n",
       "197  United Arab Emirates            725,697\n",
       "14                Bahrain            657,527\n",
       "115            Luxembourg            616,350\n",
       "122                 Malta            427,004\n",
       "53                Denmark            422,622\n",
       "96                 Israel            271,963\n",
       "89                Iceland            260,305\n",
       "157                Russia            254,750\n",
       "199         United States            253,468\n",
       "10              Australia            245,327"
      ]
     },
     "execution_count": 148,
     "metadata": {},
     "output_type": "execute_result"
    }
   ],
   "source": [
    "highest_tests_df"
   ]
  },
  {
   "cell_type": "code",
   "execution_count": 149,
   "metadata": {},
   "outputs": [
    {
     "data": {
      "application/javascript": [
       "window.require && require([\"base/js/namespace\"],function(Jupyter){Jupyter.notebook.save_checkpoint()})"
      ],
      "text/plain": [
       "<IPython.core.display.Javascript object>"
      ]
     },
     "metadata": {},
     "output_type": "display_data"
    },
    {
     "name": "stdout",
     "output_type": "stream",
     "text": [
      "[jovian] Attempting to save notebook..\n",
      "[jovian] Updating notebook \"201812311/pandas-practice-assignment\" on https://jovian.ml/\n",
      "[jovian] Uploading notebook..\n",
      "[jovian] Committed successfully! https://jovian.ml/201812311/pandas-practice-assignment\n"
     ]
    },
    {
     "data": {
      "text/plain": [
       "'https://jovian.ml/201812311/pandas-practice-assignment'"
      ]
     },
     "execution_count": 149,
     "metadata": {},
     "output_type": "execute_result"
    }
   ],
   "source": [
    "jovian.commit(project='pandas-practice-assignment', environment=None)"
   ]
  },
  {
   "cell_type": "markdown",
   "metadata": {},
   "source": [
    "**Q: Create a dataframe with 10 countires that have highest number of positive cases per million people.**"
   ]
  },
  {
   "cell_type": "code",
   "execution_count": 150,
   "metadata": {},
   "outputs": [],
   "source": [
    "highest_cases_df = combined_df[[\"location\", \"cases_per_million\"]].sort_values(ascending=False, by=\"cases_per_million\").head(10) "
   ]
  },
  {
   "cell_type": "code",
   "execution_count": 151,
   "metadata": {},
   "outputs": [
    {
     "data": {
      "text/html": [
       "<div>\n",
       "<style scoped>\n",
       "    .dataframe tbody tr th:only-of-type {\n",
       "        vertical-align: middle;\n",
       "    }\n",
       "\n",
       "    .dataframe tbody tr th {\n",
       "        vertical-align: top;\n",
       "    }\n",
       "\n",
       "    .dataframe thead th {\n",
       "        text-align: right;\n",
       "    }\n",
       "</style>\n",
       "<table border=\"1\" class=\"dataframe\">\n",
       "  <thead>\n",
       "    <tr style=\"text-align: right;\">\n",
       "      <th></th>\n",
       "      <th>location</th>\n",
       "      <th>cases_per_million</th>\n",
       "    </tr>\n",
       "  </thead>\n",
       "  <tbody>\n",
       "    <tr>\n",
       "      <th>155</th>\n",
       "      <td>Qatar</td>\n",
       "      <td>41,376</td>\n",
       "    </tr>\n",
       "    <tr>\n",
       "      <th>14</th>\n",
       "      <td>Bahrain</td>\n",
       "      <td>30,818</td>\n",
       "    </tr>\n",
       "    <tr>\n",
       "      <th>147</th>\n",
       "      <td>Panama</td>\n",
       "      <td>21,805</td>\n",
       "    </tr>\n",
       "    <tr>\n",
       "      <th>40</th>\n",
       "      <td>Chile</td>\n",
       "      <td>21,696</td>\n",
       "    </tr>\n",
       "    <tr>\n",
       "      <th>162</th>\n",
       "      <td>San Marino</td>\n",
       "      <td>21,657</td>\n",
       "    </tr>\n",
       "    <tr>\n",
       "      <th>9</th>\n",
       "      <td>Aruba</td>\n",
       "      <td>20,709</td>\n",
       "    </tr>\n",
       "    <tr>\n",
       "      <th>105</th>\n",
       "      <td>Kuwait</td>\n",
       "      <td>20,250</td>\n",
       "    </tr>\n",
       "    <tr>\n",
       "      <th>150</th>\n",
       "      <td>Peru</td>\n",
       "      <td>20,121</td>\n",
       "    </tr>\n",
       "    <tr>\n",
       "      <th>27</th>\n",
       "      <td>Brazil</td>\n",
       "      <td>18,808</td>\n",
       "    </tr>\n",
       "    <tr>\n",
       "      <th>199</th>\n",
       "      <td>United States</td>\n",
       "      <td>18,472</td>\n",
       "    </tr>\n",
       "  </tbody>\n",
       "</table>\n",
       "</div>"
      ],
      "text/plain": [
       "          location  cases_per_million\n",
       "155          Qatar             41,376\n",
       "14         Bahrain             30,818\n",
       "147         Panama             21,805\n",
       "40           Chile             21,696\n",
       "162     San Marino             21,657\n",
       "9            Aruba             20,709\n",
       "105         Kuwait             20,250\n",
       "150           Peru             20,121\n",
       "27          Brazil             18,808\n",
       "199  United States             18,472"
      ]
     },
     "execution_count": 151,
     "metadata": {},
     "output_type": "execute_result"
    }
   ],
   "source": [
    "highest_cases_df"
   ]
  },
  {
   "cell_type": "code",
   "execution_count": 152,
   "metadata": {},
   "outputs": [
    {
     "data": {
      "application/javascript": [
       "window.require && require([\"base/js/namespace\"],function(Jupyter){Jupyter.notebook.save_checkpoint()})"
      ],
      "text/plain": [
       "<IPython.core.display.Javascript object>"
      ]
     },
     "metadata": {},
     "output_type": "display_data"
    },
    {
     "name": "stdout",
     "output_type": "stream",
     "text": [
      "[jovian] Attempting to save notebook..\n",
      "[jovian] Updating notebook \"201812311/pandas-practice-assignment\" on https://jovian.ml/\n",
      "[jovian] Uploading notebook..\n",
      "[jovian] Committed successfully! https://jovian.ml/201812311/pandas-practice-assignment\n"
     ]
    },
    {
     "data": {
      "text/plain": [
       "'https://jovian.ml/201812311/pandas-practice-assignment'"
      ]
     },
     "execution_count": 152,
     "metadata": {},
     "output_type": "execute_result"
    }
   ],
   "source": [
    "jovian.commit(project='pandas-practice-assignment', environment=None)"
   ]
  },
  {
   "cell_type": "markdown",
   "metadata": {},
   "source": [
    "**Q: Create a dataframe with 10 countires that have highest number of deaths cases per million people?**"
   ]
  },
  {
   "cell_type": "code",
   "execution_count": 153,
   "metadata": {},
   "outputs": [],
   "source": [
    "highest_deaths_df = combined_df[[\"location\", \"deaths_per_million\"]].sort_values(ascending=False, by=\"deaths_per_million\").head(10) "
   ]
  },
  {
   "cell_type": "code",
   "execution_count": 154,
   "metadata": {},
   "outputs": [
    {
     "data": {
      "text/html": [
       "<div>\n",
       "<style scoped>\n",
       "    .dataframe tbody tr th:only-of-type {\n",
       "        vertical-align: middle;\n",
       "    }\n",
       "\n",
       "    .dataframe tbody tr th {\n",
       "        vertical-align: top;\n",
       "    }\n",
       "\n",
       "    .dataframe thead th {\n",
       "        text-align: right;\n",
       "    }\n",
       "</style>\n",
       "<table border=\"1\" class=\"dataframe\">\n",
       "  <thead>\n",
       "    <tr style=\"text-align: right;\">\n",
       "      <th></th>\n",
       "      <th>location</th>\n",
       "      <th>deaths_per_million</th>\n",
       "    </tr>\n",
       "  </thead>\n",
       "  <tbody>\n",
       "    <tr>\n",
       "      <th>162</th>\n",
       "      <td>San Marino</td>\n",
       "      <td>1,238</td>\n",
       "    </tr>\n",
       "    <tr>\n",
       "      <th>150</th>\n",
       "      <td>Peru</td>\n",
       "      <td>887</td>\n",
       "    </tr>\n",
       "    <tr>\n",
       "      <th>18</th>\n",
       "      <td>Belgium</td>\n",
       "      <td>854</td>\n",
       "    </tr>\n",
       "    <tr>\n",
       "      <th>3</th>\n",
       "      <td>Andorra</td>\n",
       "      <td>686</td>\n",
       "    </tr>\n",
       "    <tr>\n",
       "      <th>177</th>\n",
       "      <td>Spain</td>\n",
       "      <td>624</td>\n",
       "    </tr>\n",
       "    <tr>\n",
       "      <th>198</th>\n",
       "      <td>United Kingdom</td>\n",
       "      <td>612</td>\n",
       "    </tr>\n",
       "    <tr>\n",
       "      <th>40</th>\n",
       "      <td>Chile</td>\n",
       "      <td>593</td>\n",
       "    </tr>\n",
       "    <tr>\n",
       "      <th>97</th>\n",
       "      <td>Italy</td>\n",
       "      <td>587</td>\n",
       "    </tr>\n",
       "    <tr>\n",
       "      <th>27</th>\n",
       "      <td>Brazil</td>\n",
       "      <td>582</td>\n",
       "    </tr>\n",
       "    <tr>\n",
       "      <th>182</th>\n",
       "      <td>Sweden</td>\n",
       "      <td>576</td>\n",
       "    </tr>\n",
       "  </tbody>\n",
       "</table>\n",
       "</div>"
      ],
      "text/plain": [
       "           location  deaths_per_million\n",
       "162      San Marino               1,238\n",
       "150            Peru                 887\n",
       "18          Belgium                 854\n",
       "3           Andorra                 686\n",
       "177           Spain                 624\n",
       "198  United Kingdom                 612\n",
       "40            Chile                 593\n",
       "97            Italy                 587\n",
       "27           Brazil                 582\n",
       "182          Sweden                 576"
      ]
     },
     "execution_count": 154,
     "metadata": {},
     "output_type": "execute_result"
    }
   ],
   "source": [
    "highest_deaths_df"
   ]
  },
  {
   "cell_type": "code",
   "execution_count": 155,
   "metadata": {},
   "outputs": [
    {
     "data": {
      "application/javascript": [
       "window.require && require([\"base/js/namespace\"],function(Jupyter){Jupyter.notebook.save_checkpoint()})"
      ],
      "text/plain": [
       "<IPython.core.display.Javascript object>"
      ]
     },
     "metadata": {},
     "output_type": "display_data"
    },
    {
     "name": "stdout",
     "output_type": "stream",
     "text": [
      "[jovian] Attempting to save notebook..\n",
      "[jovian] Updating notebook \"201812311/pandas-practice-assignment\" on https://jovian.ml/\n",
      "[jovian] Uploading notebook..\n",
      "[jovian] Committed successfully! https://jovian.ml/201812311/pandas-practice-assignment\n"
     ]
    },
    {
     "data": {
      "text/plain": [
       "'https://jovian.ml/201812311/pandas-practice-assignment'"
      ]
     },
     "execution_count": 155,
     "metadata": {},
     "output_type": "execute_result"
    }
   ],
   "source": [
    "jovian.commit(project='pandas-practice-assignment', environment=None)"
   ]
  },
  {
   "cell_type": "markdown",
   "metadata": {},
   "source": [
    "**(Optional) Q: Count number of countries that feature in both the lists of \"highest number of tests per million\" and \"highest number of cases per million\".**"
   ]
  },
  {
   "cell_type": "code",
   "execution_count": null,
   "metadata": {},
   "outputs": [],
   "source": []
  },
  {
   "cell_type": "code",
   "execution_count": null,
   "metadata": {},
   "outputs": [],
   "source": []
  },
  {
   "cell_type": "code",
   "execution_count": null,
   "metadata": {},
   "outputs": [],
   "source": []
  },
  {
   "cell_type": "code",
   "execution_count": null,
   "metadata": {},
   "outputs": [
    {
     "data": {
      "application/javascript": [
       "window.require && require([\"base/js/namespace\"],function(Jupyter){Jupyter.notebook.save_checkpoint()})"
      ],
      "text/plain": [
       "<IPython.core.display.Javascript object>"
      ]
     },
     "metadata": {},
     "output_type": "display_data"
    },
    {
     "name": "stdout",
     "output_type": "stream",
     "text": [
      "[jovian] Attempting to save notebook..\r\n"
     ]
    }
   ],
   "source": [
    "jovian.commit(project='pandas-practice-assignment', environment=None)"
   ]
  },
  {
   "cell_type": "markdown",
   "metadata": {},
   "source": [
    "**(Optional) Q: Count number of countries that feature in both the lists \"20 countries with lowest GDP per capita\" and \"20 countries with the lowest number of hospital beds per thousand population\". Only consider countries with a population higher than 10 million while creating the list.**"
   ]
  },
  {
   "cell_type": "code",
   "execution_count": null,
   "metadata": {},
   "outputs": [],
   "source": []
  },
  {
   "cell_type": "code",
   "execution_count": null,
   "metadata": {},
   "outputs": [],
   "source": []
  },
  {
   "cell_type": "code",
   "execution_count": null,
   "metadata": {},
   "outputs": [],
   "source": []
  },
  {
   "cell_type": "code",
   "execution_count": null,
   "metadata": {},
   "outputs": [],
   "source": [
    "import jovian"
   ]
  },
  {
   "cell_type": "code",
   "execution_count": null,
   "metadata": {},
   "outputs": [],
   "source": [
    "jovian.commit(project='pandas-practice-assignment', environment=None)"
   ]
  },
  {
   "cell_type": "markdown",
   "metadata": {},
   "source": [
    "## Submission \n",
    "\n",
    "Congratulations on making it this far! You've reached the end of this assignment, and you just completed your first real-world data analysis problem. It's time to record one final version of your notebook for submission.\n",
    "\n",
    "Make a submission here by filling the submission form: https://jovian.ml/learn/data-analysis-with-python-zero-to-pandas/assignment/assignment-3-pandas-practice\n",
    "\n",
    "Also make sure to help others on the forum: https://jovian.ml/forum/t/assignment-3-pandas-practice/11225/2"
   ]
  },
  {
   "cell_type": "code",
   "execution_count": null,
   "metadata": {},
   "outputs": [],
   "source": []
  }
 ],
 "metadata": {
  "kernelspec": {
   "display_name": "Python 3",
   "language": "python",
   "name": "python3"
  },
  "language_info": {
   "codemirror_mode": {
    "name": "ipython",
    "version": 3
   },
   "file_extension": ".py",
   "mimetype": "text/x-python",
   "name": "python",
   "nbconvert_exporter": "python",
   "pygments_lexer": "ipython3",
   "version": "3.8.2"
  }
 },
 "nbformat": 4,
 "nbformat_minor": 4
}
